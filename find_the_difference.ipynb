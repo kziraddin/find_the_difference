{
 "cells": [
  {
   "cell_type": "code",
   "execution_count": null,
   "id": "3d20ea00",
   "metadata": {},
   "outputs": [],
   "source": [
    "class Solution(object):\n",
    "    def findTheDifference(self, s, t):\n",
    "        # Initialize an array to store character counts\n",
    "        char_count = [0] * 26  # Assuming only lowercase letters\n",
    "\n",
    "        # Count characters in string s\n",
    "        for char in s:\n",
    "            #ord() is a built-in function that returns the Unicode code point (integer) for a given character char. \n",
    "            char_count[ord(char) - ord('a')] += 1 \n",
    "\n",
    "        # Subtract counts for characters in string t\n",
    "        for char in t:\n",
    "            char_count[ord(char) - ord('a')] -= 1\n",
    "\n",
    "        # Find the character with count -1 (the added letter)\n",
    "        for i in range(26):\n",
    "            if char_count[i] == -1:\n",
    "                #chr returns character\n",
    "                return chr(i + ord('a'))"
   ]
  }
 ],
 "metadata": {
  "kernelspec": {
   "display_name": "Python 3 (ipykernel)",
   "language": "python",
   "name": "python3"
  },
  "language_info": {
   "codemirror_mode": {
    "name": "ipython",
    "version": 3
   },
   "file_extension": ".py",
   "mimetype": "text/x-python",
   "name": "python",
   "nbconvert_exporter": "python",
   "pygments_lexer": "ipython3",
   "version": "3.9.12"
  }
 },
 "nbformat": 4,
 "nbformat_minor": 5
}
